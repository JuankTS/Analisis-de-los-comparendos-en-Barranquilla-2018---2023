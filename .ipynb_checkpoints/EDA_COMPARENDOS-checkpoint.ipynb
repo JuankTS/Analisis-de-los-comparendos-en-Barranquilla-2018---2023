{
 "cells": [
  {
   "cell_type": "code",
   "execution_count": 1,
   "metadata": {
    "tags": []
   },
   "outputs": [],
   "source": [
    "import pandas as pd\n",
    "import numpy as np"
   ]
  },
  {
   "cell_type": "code",
   "execution_count": 2,
   "metadata": {
    "tags": []
   },
   "outputs": [],
   "source": [
    "datos = pd.read_csv('C:/Users/HP/Documents/Proyectos/Comparendos/Comparendos_Electronicos_Barranquila.csv')"
   ]
  },
  {
   "cell_type": "code",
   "execution_count": 3,
   "metadata": {
    "tags": []
   },
   "outputs": [
    {
     "name": "stdout",
     "output_type": "stream",
     "text": [
      "<class 'pandas.core.frame.DataFrame'>\n",
      "RangeIndex: 252720 entries, 0 to 252719\n",
      "Data columns (total 7 columns):\n",
      " #   Column                       Non-Null Count   Dtype \n",
      "---  ------                       --------------   ----- \n",
      " 0   fecha_comparendo             252720 non-null  object\n",
      " 1   COD_INFRACCION               252720 non-null  object\n",
      " 2   DESC_INFRACCION              252720 non-null  object\n",
      " 3   TIPO_INFRACCION              252720 non-null  object\n",
      " 4   SERVICIO_VEHICULO_INFRACTOR  252720 non-null  object\n",
      " 5   CLASE_VEHICULO_INFRACTOR     252720 non-null  object\n",
      " 6   CANTIDAD_INFRACCIONES        252720 non-null  int64 \n",
      "dtypes: int64(1), object(6)\n",
      "memory usage: 13.5+ MB\n"
     ]
    }
   ],
   "source": [
    "datos.info()"
   ]
  },
  {
   "cell_type": "code",
   "execution_count": 4,
   "metadata": {
    "tags": []
   },
   "outputs": [
    {
     "data": {
      "text/html": [
       "<div>\n",
       "<style scoped>\n",
       "    .dataframe tbody tr th:only-of-type {\n",
       "        vertical-align: middle;\n",
       "    }\n",
       "\n",
       "    .dataframe tbody tr th {\n",
       "        vertical-align: top;\n",
       "    }\n",
       "\n",
       "    .dataframe thead th {\n",
       "        text-align: right;\n",
       "    }\n",
       "</style>\n",
       "<table border=\"1\" class=\"dataframe\">\n",
       "  <thead>\n",
       "    <tr style=\"text-align: right;\">\n",
       "      <th></th>\n",
       "      <th>fecha_comparendo</th>\n",
       "      <th>COD_INFRACCION</th>\n",
       "      <th>DESC_INFRACCION</th>\n",
       "      <th>TIPO_INFRACCION</th>\n",
       "      <th>SERVICIO_VEHICULO_INFRACTOR</th>\n",
       "      <th>CLASE_VEHICULO_INFRACTOR</th>\n",
       "      <th>CANTIDAD_INFRACCIONES</th>\n",
       "    </tr>\n",
       "  </thead>\n",
       "  <tbody>\n",
       "    <tr>\n",
       "      <th>0</th>\n",
       "      <td>01/01/2018 12:00:00 AM</td>\n",
       "      <td>C29</td>\n",
       "      <td>Conducir un vehículo a velocidad superior a la...</td>\n",
       "      <td>TRÁNSITO</td>\n",
       "      <td>PARTICULAR</td>\n",
       "      <td>AUTOMOVIL</td>\n",
       "      <td>4</td>\n",
       "    </tr>\n",
       "  </tbody>\n",
       "</table>\n",
       "</div>"
      ],
      "text/plain": [
       "         fecha_comparendo COD_INFRACCION  \\\n",
       "0  01/01/2018 12:00:00 AM            C29   \n",
       "\n",
       "                                     DESC_INFRACCION TIPO_INFRACCION  \\\n",
       "0  Conducir un vehículo a velocidad superior a la...        TRÁNSITO   \n",
       "\n",
       "  SERVICIO_VEHICULO_INFRACTOR CLASE_VEHICULO_INFRACTOR  CANTIDAD_INFRACCIONES  \n",
       "0                  PARTICULAR                AUTOMOVIL                      4  "
      ]
     },
     "execution_count": 4,
     "metadata": {},
     "output_type": "execute_result"
    }
   ],
   "source": [
    "datos.head(1)"
   ]
  },
  {
   "cell_type": "code",
   "execution_count": 5,
   "metadata": {
    "tags": []
   },
   "outputs": [],
   "source": [
    "datos.insert(datos.columns.get_loc('fecha_comparendo') + 1, 'MES', datos['fecha_comparendo'].str[:2])"
   ]
  },
  {
   "cell_type": "code",
   "execution_count": 6,
   "metadata": {
    "tags": []
   },
   "outputs": [],
   "source": [
    "datos.insert(datos.columns.get_loc('MES') + 1, 'AÑO', datos['fecha_comparendo'].str[6:10])"
   ]
  },
  {
   "cell_type": "code",
   "execution_count": 7,
   "metadata": {
    "tags": []
   },
   "outputs": [
    {
     "data": {
      "text/html": [
       "<div>\n",
       "<style scoped>\n",
       "    .dataframe tbody tr th:only-of-type {\n",
       "        vertical-align: middle;\n",
       "    }\n",
       "\n",
       "    .dataframe tbody tr th {\n",
       "        vertical-align: top;\n",
       "    }\n",
       "\n",
       "    .dataframe thead th {\n",
       "        text-align: right;\n",
       "    }\n",
       "</style>\n",
       "<table border=\"1\" class=\"dataframe\">\n",
       "  <thead>\n",
       "    <tr style=\"text-align: right;\">\n",
       "      <th></th>\n",
       "      <th>fecha_comparendo</th>\n",
       "      <th>MES</th>\n",
       "      <th>AÑO</th>\n",
       "      <th>COD_INFRACCION</th>\n",
       "      <th>DESC_INFRACCION</th>\n",
       "      <th>TIPO_INFRACCION</th>\n",
       "      <th>SERVICIO_VEHICULO_INFRACTOR</th>\n",
       "      <th>CLASE_VEHICULO_INFRACTOR</th>\n",
       "      <th>CANTIDAD_INFRACCIONES</th>\n",
       "    </tr>\n",
       "  </thead>\n",
       "  <tbody>\n",
       "    <tr>\n",
       "      <th>0</th>\n",
       "      <td>01/01/2018 12:00:00 AM</td>\n",
       "      <td>01</td>\n",
       "      <td>2018</td>\n",
       "      <td>C29</td>\n",
       "      <td>Conducir un vehículo a velocidad superior a la...</td>\n",
       "      <td>TRÁNSITO</td>\n",
       "      <td>PARTICULAR</td>\n",
       "      <td>AUTOMOVIL</td>\n",
       "      <td>4</td>\n",
       "    </tr>\n",
       "    <tr>\n",
       "      <th>1</th>\n",
       "      <td>01/01/2018 12:00:00 AM</td>\n",
       "      <td>01</td>\n",
       "      <td>2018</td>\n",
       "      <td>C29</td>\n",
       "      <td>Conducir un vehículo a velocidad superior a la...</td>\n",
       "      <td>TRÁNSITO</td>\n",
       "      <td>PARTICULAR</td>\n",
       "      <td>CAMIONETA</td>\n",
       "      <td>2</td>\n",
       "    </tr>\n",
       "  </tbody>\n",
       "</table>\n",
       "</div>"
      ],
      "text/plain": [
       "         fecha_comparendo MES   AÑO COD_INFRACCION  \\\n",
       "0  01/01/2018 12:00:00 AM  01  2018            C29   \n",
       "1  01/01/2018 12:00:00 AM  01  2018            C29   \n",
       "\n",
       "                                     DESC_INFRACCION TIPO_INFRACCION  \\\n",
       "0  Conducir un vehículo a velocidad superior a la...        TRÁNSITO   \n",
       "1  Conducir un vehículo a velocidad superior a la...        TRÁNSITO   \n",
       "\n",
       "  SERVICIO_VEHICULO_INFRACTOR CLASE_VEHICULO_INFRACTOR  CANTIDAD_INFRACCIONES  \n",
       "0                  PARTICULAR                AUTOMOVIL                      4  \n",
       "1                  PARTICULAR                CAMIONETA                      2  "
      ]
     },
     "execution_count": 7,
     "metadata": {},
     "output_type": "execute_result"
    }
   ],
   "source": [
    "datos.head(2)"
   ]
  },
  {
   "cell_type": "code",
   "execution_count": 8,
   "metadata": {
    "tags": []
   },
   "outputs": [
    {
     "data": {
      "text/html": [
       "<div>\n",
       "<style scoped>\n",
       "    .dataframe tbody tr th:only-of-type {\n",
       "        vertical-align: middle;\n",
       "    }\n",
       "\n",
       "    .dataframe tbody tr th {\n",
       "        vertical-align: top;\n",
       "    }\n",
       "\n",
       "    .dataframe thead th {\n",
       "        text-align: right;\n",
       "    }\n",
       "</style>\n",
       "<table border=\"1\" class=\"dataframe\">\n",
       "  <thead>\n",
       "    <tr style=\"text-align: right;\">\n",
       "      <th></th>\n",
       "      <th>fecha_comparendo</th>\n",
       "      <th>MES</th>\n",
       "      <th>AÑO</th>\n",
       "      <th>COD_INFRACCION</th>\n",
       "      <th>DESC_INFRACCION</th>\n",
       "      <th>TIPO_INFRACCION</th>\n",
       "      <th>SERVICIO_VEHICULO_INFRACTOR</th>\n",
       "      <th>CLASE_VEHICULO_INFRACTOR</th>\n",
       "      <th>CANTIDAD_INFRACCIONES</th>\n",
       "    </tr>\n",
       "  </thead>\n",
       "  <tbody>\n",
       "    <tr>\n",
       "      <th>252718</th>\n",
       "      <td>12/31/2023 12:00:00 AM</td>\n",
       "      <td>12</td>\n",
       "      <td>2023</td>\n",
       "      <td>D04</td>\n",
       "      <td>No detenerse ante luz roja o amarilla de semáf...</td>\n",
       "      <td>TRÁNSITO</td>\n",
       "      <td>PARTICULAR</td>\n",
       "      <td>MOTOCICLETA</td>\n",
       "      <td>8</td>\n",
       "    </tr>\n",
       "    <tr>\n",
       "      <th>252719</th>\n",
       "      <td>12/31/2023 12:00:00 AM</td>\n",
       "      <td>12</td>\n",
       "      <td>2023</td>\n",
       "      <td>D04</td>\n",
       "      <td>No detenerse ante luz roja o amarilla de semáf...</td>\n",
       "      <td>TRÁNSITO</td>\n",
       "      <td>PUBLICO</td>\n",
       "      <td>AUTOMOVIL</td>\n",
       "      <td>1</td>\n",
       "    </tr>\n",
       "  </tbody>\n",
       "</table>\n",
       "</div>"
      ],
      "text/plain": [
       "              fecha_comparendo MES   AÑO COD_INFRACCION  \\\n",
       "252718  12/31/2023 12:00:00 AM  12  2023            D04   \n",
       "252719  12/31/2023 12:00:00 AM  12  2023            D04   \n",
       "\n",
       "                                          DESC_INFRACCION TIPO_INFRACCION  \\\n",
       "252718  No detenerse ante luz roja o amarilla de semáf...        TRÁNSITO   \n",
       "252719  No detenerse ante luz roja o amarilla de semáf...        TRÁNSITO   \n",
       "\n",
       "       SERVICIO_VEHICULO_INFRACTOR CLASE_VEHICULO_INFRACTOR  \\\n",
       "252718                  PARTICULAR              MOTOCICLETA   \n",
       "252719                     PUBLICO                AUTOMOVIL   \n",
       "\n",
       "        CANTIDAD_INFRACCIONES  \n",
       "252718                      8  \n",
       "252719                      1  "
      ]
     },
     "execution_count": 8,
     "metadata": {},
     "output_type": "execute_result"
    }
   ],
   "source": [
    "datos.tail(2)"
   ]
  },
  {
   "cell_type": "code",
   "execution_count": 9,
   "metadata": {
    "tags": []
   },
   "outputs": [],
   "source": [
    "map_mes= {\n",
    "    '01': 'Enero','02':'Febrero','03':'Marzo','04':'Abril',\n",
    "    '05':'Mayo', '06': 'Junio','07':'Julio','08':'Agosto',\n",
    "    '09':'Septiembre', '10':'Octubre','11':'Noviembre','12':'Diciembre'\n",
    "    }"
   ]
  },
  {
   "cell_type": "code",
   "execution_count": 10,
   "metadata": {
    "tags": []
   },
   "outputs": [],
   "source": [
    "datos['MES'].replace(map_mes, inplace= True)"
   ]
  },
  {
   "cell_type": "code",
   "execution_count": 11,
   "metadata": {
    "tags": []
   },
   "outputs": [
    {
     "data": {
      "text/html": [
       "<div>\n",
       "<style scoped>\n",
       "    .dataframe tbody tr th:only-of-type {\n",
       "        vertical-align: middle;\n",
       "    }\n",
       "\n",
       "    .dataframe tbody tr th {\n",
       "        vertical-align: top;\n",
       "    }\n",
       "\n",
       "    .dataframe thead th {\n",
       "        text-align: right;\n",
       "    }\n",
       "</style>\n",
       "<table border=\"1\" class=\"dataframe\">\n",
       "  <thead>\n",
       "    <tr style=\"text-align: right;\">\n",
       "      <th></th>\n",
       "      <th>fecha_comparendo</th>\n",
       "      <th>MES</th>\n",
       "      <th>AÑO</th>\n",
       "      <th>COD_INFRACCION</th>\n",
       "      <th>DESC_INFRACCION</th>\n",
       "      <th>TIPO_INFRACCION</th>\n",
       "      <th>SERVICIO_VEHICULO_INFRACTOR</th>\n",
       "      <th>CLASE_VEHICULO_INFRACTOR</th>\n",
       "      <th>CANTIDAD_INFRACCIONES</th>\n",
       "    </tr>\n",
       "  </thead>\n",
       "  <tbody>\n",
       "    <tr>\n",
       "      <th>0</th>\n",
       "      <td>01/01/2018 12:00:00 AM</td>\n",
       "      <td>Enero</td>\n",
       "      <td>2018</td>\n",
       "      <td>C29</td>\n",
       "      <td>Conducir un vehículo a velocidad superior a la...</td>\n",
       "      <td>TRÁNSITO</td>\n",
       "      <td>PARTICULAR</td>\n",
       "      <td>AUTOMOVIL</td>\n",
       "      <td>4</td>\n",
       "    </tr>\n",
       "    <tr>\n",
       "      <th>1</th>\n",
       "      <td>01/01/2018 12:00:00 AM</td>\n",
       "      <td>Enero</td>\n",
       "      <td>2018</td>\n",
       "      <td>C29</td>\n",
       "      <td>Conducir un vehículo a velocidad superior a la...</td>\n",
       "      <td>TRÁNSITO</td>\n",
       "      <td>PARTICULAR</td>\n",
       "      <td>CAMIONETA</td>\n",
       "      <td>2</td>\n",
       "    </tr>\n",
       "  </tbody>\n",
       "</table>\n",
       "</div>"
      ],
      "text/plain": [
       "         fecha_comparendo    MES   AÑO COD_INFRACCION  \\\n",
       "0  01/01/2018 12:00:00 AM  Enero  2018            C29   \n",
       "1  01/01/2018 12:00:00 AM  Enero  2018            C29   \n",
       "\n",
       "                                     DESC_INFRACCION TIPO_INFRACCION  \\\n",
       "0  Conducir un vehículo a velocidad superior a la...        TRÁNSITO   \n",
       "1  Conducir un vehículo a velocidad superior a la...        TRÁNSITO   \n",
       "\n",
       "  SERVICIO_VEHICULO_INFRACTOR CLASE_VEHICULO_INFRACTOR  CANTIDAD_INFRACCIONES  \n",
       "0                  PARTICULAR                AUTOMOVIL                      4  \n",
       "1                  PARTICULAR                CAMIONETA                      2  "
      ]
     },
     "execution_count": 11,
     "metadata": {},
     "output_type": "execute_result"
    }
   ],
   "source": [
    "datos.head(2)"
   ]
  },
  {
   "cell_type": "code",
   "execution_count": 12,
   "metadata": {
    "tags": []
   },
   "outputs": [
    {
     "data": {
      "text/html": [
       "<div>\n",
       "<style scoped>\n",
       "    .dataframe tbody tr th:only-of-type {\n",
       "        vertical-align: middle;\n",
       "    }\n",
       "\n",
       "    .dataframe tbody tr th {\n",
       "        vertical-align: top;\n",
       "    }\n",
       "\n",
       "    .dataframe thead th {\n",
       "        text-align: right;\n",
       "    }\n",
       "</style>\n",
       "<table border=\"1\" class=\"dataframe\">\n",
       "  <thead>\n",
       "    <tr style=\"text-align: right;\">\n",
       "      <th></th>\n",
       "      <th>fecha_comparendo</th>\n",
       "      <th>MES</th>\n",
       "      <th>AÑO</th>\n",
       "      <th>COD_INFRACCION</th>\n",
       "      <th>DESC_INFRACCION</th>\n",
       "      <th>TIPO_INFRACCION</th>\n",
       "      <th>SERVICIO_VEHICULO_INFRACTOR</th>\n",
       "      <th>CLASE_VEHICULO_INFRACTOR</th>\n",
       "      <th>CANTIDAD_INFRACCIONES</th>\n",
       "    </tr>\n",
       "  </thead>\n",
       "  <tbody>\n",
       "    <tr>\n",
       "      <th>252718</th>\n",
       "      <td>12/31/2023 12:00:00 AM</td>\n",
       "      <td>Diciembre</td>\n",
       "      <td>2023</td>\n",
       "      <td>D04</td>\n",
       "      <td>No detenerse ante luz roja o amarilla de semáf...</td>\n",
       "      <td>TRÁNSITO</td>\n",
       "      <td>PARTICULAR</td>\n",
       "      <td>MOTOCICLETA</td>\n",
       "      <td>8</td>\n",
       "    </tr>\n",
       "    <tr>\n",
       "      <th>252719</th>\n",
       "      <td>12/31/2023 12:00:00 AM</td>\n",
       "      <td>Diciembre</td>\n",
       "      <td>2023</td>\n",
       "      <td>D04</td>\n",
       "      <td>No detenerse ante luz roja o amarilla de semáf...</td>\n",
       "      <td>TRÁNSITO</td>\n",
       "      <td>PUBLICO</td>\n",
       "      <td>AUTOMOVIL</td>\n",
       "      <td>1</td>\n",
       "    </tr>\n",
       "  </tbody>\n",
       "</table>\n",
       "</div>"
      ],
      "text/plain": [
       "              fecha_comparendo        MES   AÑO COD_INFRACCION  \\\n",
       "252718  12/31/2023 12:00:00 AM  Diciembre  2023            D04   \n",
       "252719  12/31/2023 12:00:00 AM  Diciembre  2023            D04   \n",
       "\n",
       "                                          DESC_INFRACCION TIPO_INFRACCION  \\\n",
       "252718  No detenerse ante luz roja o amarilla de semáf...        TRÁNSITO   \n",
       "252719  No detenerse ante luz roja o amarilla de semáf...        TRÁNSITO   \n",
       "\n",
       "       SERVICIO_VEHICULO_INFRACTOR CLASE_VEHICULO_INFRACTOR  \\\n",
       "252718                  PARTICULAR              MOTOCICLETA   \n",
       "252719                     PUBLICO                AUTOMOVIL   \n",
       "\n",
       "        CANTIDAD_INFRACCIONES  \n",
       "252718                      8  \n",
       "252719                      1  "
      ]
     },
     "execution_count": 12,
     "metadata": {},
     "output_type": "execute_result"
    }
   ],
   "source": [
    "datos.tail(2)"
   ]
  },
  {
   "cell_type": "code",
   "execution_count": 13,
   "metadata": {
    "tags": []
   },
   "outputs": [
    {
     "data": {
      "text/plain": [
       "TRÁNSITO    252720\n",
       "Name: TIPO_INFRACCION, dtype: int64"
      ]
     },
     "execution_count": 13,
     "metadata": {},
     "output_type": "execute_result"
    }
   ],
   "source": [
    "datos['TIPO_INFRACCION'].value_counts()\n"
   ]
  },
  {
   "cell_type": "code",
   "execution_count": 14,
   "metadata": {
    "tags": []
   },
   "outputs": [],
   "source": [
    "datos.drop('TIPO_INFRACCION', axis=1, inplace=True)"
   ]
  },
  {
   "cell_type": "code",
   "execution_count": 15,
   "metadata": {
    "tags": []
   },
   "outputs": [
    {
     "name": "stdout",
     "output_type": "stream",
     "text": [
      "C02    115916\n",
      "C29     98892\n",
      "D04     19940\n",
      "C03     15619\n",
      "C32      2353\n",
      "Name: COD_INFRACCION, dtype: int64 \n",
      "\n",
      "PARTICULAR     205143\n",
      "PUBLICO         47013\n",
      "OFICIAL           562\n",
      "DIPLOMATICO         2\n",
      "Name: SERVICIO_VEHICULO_INFRACTOR, dtype: int64 \n",
      "\n",
      "AUTOMOVIL       126905\n",
      "CAMIONETA        61655\n",
      "MOTOCICLETA      26788\n",
      "CAMPERO          24663\n",
      "CAMION            5541\n",
      "BUS               3415\n",
      "MICROBUS          1692\n",
      "BUSETA            1013\n",
      "VOLQUETA           500\n",
      "TRACTOCAMION       431\n",
      "MOTOCARRO          112\n",
      "CUATRIMOTO           5\n",
      "Name: CLASE_VEHICULO_INFRACTOR, dtype: int64 \n",
      "\n"
     ]
    }
   ],
   "source": [
    "for i in ['COD_INFRACCION','SERVICIO_VEHICULO_INFRACTOR','CLASE_VEHICULO_INFRACTOR']:\n",
    "    print(datos[i].value_counts(),'\\n')"
   ]
  },
  {
   "cell_type": "code",
   "execution_count": 16,
   "metadata": {
    "tags": []
   },
   "outputs": [
    {
     "data": {
      "text/plain": [
       "count    252720.000000\n",
       "mean          1.848548\n",
       "std           2.016172\n",
       "min           1.000000\n",
       "25%           1.000000\n",
       "50%           1.000000\n",
       "75%           2.000000\n",
       "max          78.000000\n",
       "Name: CANTIDAD_INFRACCIONES, dtype: float64"
      ]
     },
     "execution_count": 16,
     "metadata": {},
     "output_type": "execute_result"
    }
   ],
   "source": [
    "datos['CANTIDAD_INFRACCIONES'].describe()"
   ]
  },
  {
   "cell_type": "code",
   "execution_count": 17,
   "metadata": {
    "tags": []
   },
   "outputs": [],
   "source": [
    "import matplotlib.pyplot as plt\n",
    "import seaborn as sns\n"
   ]
  },
  {
   "cell_type": "code",
   "execution_count": 18,
   "metadata": {
    "tags": []
   },
   "outputs": [],
   "source": [
    "datos_vehiculo= datos.groupby('CLASE_VEHICULO_INFRACTOR').size().reset_index(name='Conteo')"
   ]
  },
  {
   "cell_type": "code",
   "execution_count": 19,
   "metadata": {
    "tags": []
   },
   "outputs": [
    {
     "data": {
      "image/png": "[encoded data removed]",
      "text/plain": [
       "<Figure size 640x480 with 1 Axes>"
      ]
     },
     "metadata": {},
     "output_type": "display_data"
    }
   ],
   "source": [
    "orden = datos_vehiculo.sort_values(by='Conteo', ascending=False)['CLASE_VEHICULO_INFRACTOR']\n",
    "sns.barplot(data=datos_vehiculo, \n",
    "            y= 'CLASE_VEHICULO_INFRACTOR', \n",
    "            x= 'Conteo', \n",
    "            order=orden,\n",
    "            color='#104C56')\n",
    "\n",
    "sns.despine()\n",
    "plt. title('Cantidad de infracciones por tipo de vehículo',fontsize=15, fontweight='bold')\n",
    "plt.xlabel('Cantidad')\n",
    "plt.ylabel('Tipo de Vehículo')\n",
    "plt.show()"
   ]
  },
  {
   "cell_type": "code",
   "execution_count": 21,
   "metadata": {
    "tags": []
   },
   "outputs": [
    {
     "data": {
      "text/html": [
       "<div>\n",
       "<style scoped>\n",
       "    .dataframe tbody tr th:only-of-type {\n",
       "        vertical-align: middle;\n",
       "    }\n",
       "\n",
       "    .dataframe tbody tr th {\n",
       "        vertical-align: top;\n",
       "    }\n",
       "\n",
       "    .dataframe thead th {\n",
       "        text-align: right;\n",
       "    }\n",
       "</style>\n",
       "<table border=\"1\" class=\"dataframe\">\n",
       "  <thead>\n",
       "    <tr style=\"text-align: right;\">\n",
       "      <th></th>\n",
       "      <th>CLASE_VEHICULO_INFRACTOR</th>\n",
       "      <th>Conteo</th>\n",
       "      <th>% Infracciones</th>\n",
       "    </tr>\n",
       "  </thead>\n",
       "  <tbody>\n",
       "    <tr>\n",
       "      <th>0</th>\n",
       "      <td>AUTOMOVIL</td>\n",
       "      <td>126905</td>\n",
       "      <td>50.22</td>\n",
       "    </tr>\n",
       "    <tr>\n",
       "      <th>1</th>\n",
       "      <td>BUS</td>\n",
       "      <td>3415</td>\n",
       "      <td>1.35</td>\n",
       "    </tr>\n",
       "    <tr>\n",
       "      <th>2</th>\n",
       "      <td>BUSETA</td>\n",
       "      <td>1013</td>\n",
       "      <td>0.40</td>\n",
       "    </tr>\n",
       "    <tr>\n",
       "      <th>3</th>\n",
       "      <td>CAMION</td>\n",
       "      <td>5541</td>\n",
       "      <td>2.19</td>\n",
       "    </tr>\n",
       "    <tr>\n",
       "      <th>4</th>\n",
       "      <td>CAMIONETA</td>\n",
       "      <td>61655</td>\n",
       "      <td>24.40</td>\n",
       "    </tr>\n",
       "    <tr>\n",
       "      <th>5</th>\n",
       "      <td>CAMPERO</td>\n",
       "      <td>24663</td>\n",
       "      <td>9.76</td>\n",
       "    </tr>\n",
       "    <tr>\n",
       "      <th>6</th>\n",
       "      <td>CUATRIMOTO</td>\n",
       "      <td>5</td>\n",
       "      <td>0.00</td>\n",
       "    </tr>\n",
       "    <tr>\n",
       "      <th>7</th>\n",
       "      <td>MICROBUS</td>\n",
       "      <td>1692</td>\n",
       "      <td>0.67</td>\n",
       "    </tr>\n",
       "    <tr>\n",
       "      <th>8</th>\n",
       "      <td>MOTOCARRO</td>\n",
       "      <td>112</td>\n",
       "      <td>0.04</td>\n",
       "    </tr>\n",
       "    <tr>\n",
       "      <th>9</th>\n",
       "      <td>MOTOCICLETA</td>\n",
       "      <td>26788</td>\n",
       "      <td>10.60</td>\n",
       "    </tr>\n",
       "    <tr>\n",
       "      <th>10</th>\n",
       "      <td>TRACTOCAMION</td>\n",
       "      <td>431</td>\n",
       "      <td>0.17</td>\n",
       "    </tr>\n",
       "    <tr>\n",
       "      <th>11</th>\n",
       "      <td>VOLQUETA</td>\n",
       "      <td>500</td>\n",
       "      <td>0.20</td>\n",
       "    </tr>\n",
       "  </tbody>\n",
       "</table>\n",
       "</div>"
      ],
      "text/plain": [
       "   CLASE_VEHICULO_INFRACTOR  Conteo  % Infracciones\n",
       "0                 AUTOMOVIL  126905           50.22\n",
       "1                       BUS    3415            1.35\n",
       "2                    BUSETA    1013            0.40\n",
       "3                    CAMION    5541            2.19\n",
       "4                 CAMIONETA   61655           24.40\n",
       "5                   CAMPERO   24663            9.76\n",
       "6                CUATRIMOTO       5            0.00\n",
       "7                  MICROBUS    1692            0.67\n",
       "8                 MOTOCARRO     112            0.04\n",
       "9               MOTOCICLETA   26788           10.60\n",
       "10             TRACTOCAMION     431            0.17\n",
       "11                 VOLQUETA     500            0.20"
      ]
     },
     "execution_count": 21,
     "metadata": {},
     "output_type": "execute_result"
    }
   ],
   "source": [
    "datos_vehiculo['% Infracciones'] = round((datos_vehiculo['Conteo']/sum(datos_vehiculo['Conteo']))*100,2)\n",
    "datos_vehiculo "
   ]
  },
  {
   "cell_type": "code",
   "execution_count": 22,
   "metadata": {
    "tags": []
   },
   "outputs": [
    {
     "data": {
      "text/html": [
       "<div>\n",
       "<style scoped>\n",
       "    .dataframe tbody tr th:only-of-type {\n",
       "        vertical-align: middle;\n",
       "    }\n",
       "\n",
       "    .dataframe tbody tr th {\n",
       "        vertical-align: top;\n",
       "    }\n",
       "\n",
       "    .dataframe thead th {\n",
       "        text-align: right;\n",
       "    }\n",
       "</style>\n",
       "<table border=\"1\" class=\"dataframe\">\n",
       "  <thead>\n",
       "    <tr style=\"text-align: right;\">\n",
       "      <th></th>\n",
       "      <th>COD_INFRACCION</th>\n",
       "      <th>Conteo</th>\n",
       "      <th>% Del Total</th>\n",
       "    </tr>\n",
       "  </thead>\n",
       "  <tbody>\n",
       "    <tr>\n",
       "      <th>0</th>\n",
       "      <td>C02</td>\n",
       "      <td>115916</td>\n",
       "      <td>45.87</td>\n",
       "    </tr>\n",
       "    <tr>\n",
       "      <th>1</th>\n",
       "      <td>C03</td>\n",
       "      <td>15619</td>\n",
       "      <td>6.18</td>\n",
       "    </tr>\n",
       "    <tr>\n",
       "      <th>2</th>\n",
       "      <td>C29</td>\n",
       "      <td>98892</td>\n",
       "      <td>39.13</td>\n",
       "    </tr>\n",
       "    <tr>\n",
       "      <th>3</th>\n",
       "      <td>C32</td>\n",
       "      <td>2353</td>\n",
       "      <td>0.93</td>\n",
       "    </tr>\n",
       "    <tr>\n",
       "      <th>4</th>\n",
       "      <td>D04</td>\n",
       "      <td>19940</td>\n",
       "      <td>7.89</td>\n",
       "    </tr>\n",
       "  </tbody>\n",
       "</table>\n",
       "</div>"
      ],
      "text/plain": [
       "  COD_INFRACCION  Conteo  % Del Total\n",
       "0            C02  115916        45.87\n",
       "1            C03   15619         6.18\n",
       "2            C29   98892        39.13\n",
       "3            C32    2353         0.93\n",
       "4            D04   19940         7.89"
      ]
     },
     "execution_count": 22,
     "metadata": {},
     "output_type": "execute_result"
    }
   ],
   "source": [
    "datos_infraccion= datos.groupby('COD_INFRACCION').size().reset_index(name='Conteo')\n",
    "datos_infraccion['% Del Total']= round((datos_infraccion['Conteo']/sum(datos_vehiculo['Conteo']))*100,2)\n",
    "datos_infraccion"
   ]
  },
  {
   "cell_type": "code",
   "execution_count": 23,
   "metadata": {
    "tags": []
   },
   "outputs": [
    {
     "name": "stdout",
     "output_type": "stream",
     "text": [
      "C29: Conducir un vehículo a velocidad superior a la máxima permitida, la cual deberá estar señalizada en forma sectorizada, la cual no podrá ser superior\n",
      "C32: No respetar el paso de peatones que cruzan una vía en sitio permitido para ellos o no darles la prelación en las franjas para ello establecidas\n",
      "D04: No detenerse ante luz roja o amarilla de semáforo,una señal de PARE,un semáforo intermitente en rojo. En el caso de motocicletas se procederá a la inmovilización hasta tanto no pague el valor de la multa o a la autoridad competente decida sobre si imposición en los términos de los art 135,136 CNT\n",
      "C02: Estacionar un vehículo en los sitios prohibidos\n",
      "C03: Bloquear una calzada o intersección con un vehículo, salvo cuando el bloqueo obedezca a la ocurrencia de un accidente\n"
     ]
    }
   ],
   "source": [
    "infracciones= pd.concat([pd.Series(datos['COD_INFRACCION'].unique()),pd.Series(datos['DESC_INFRACCION'].unique())],axis=1)\n",
    "for index, row in infracciones.iterrows():\n",
    "    print(f'{row[0]}: {row[1]}')"
   ]
  },
  {
   "cell_type": "code",
   "execution_count": 24,
   "metadata": {
    "tags": []
   },
   "outputs": [
    {
     "data": {
      "image/png": "[encoded data removed]",
      "text/plain": [
       "<Figure size 640x480 with 1 Axes>"
      ]
     },
     "metadata": {},
     "output_type": "display_data"
    }
   ],
   "source": [
    "\n",
    "sns.barplot(data=datos_infraccion, \n",
    "            y= 'COD_INFRACCION', \n",
    "            x= 'Conteo',\n",
    "            color='#83E9CD')\n",
    "\n",
    "sns.despine()\n",
    "plt. title('Cantidad de infracciones por tipo de infracción',fontsize=15, fontweight='bold')\n",
    "plt.xlabel('Cantidad')\n",
    "plt.ylabel('Tipo de infraccón')\n",
    "plt.show()"
   ]
  },
  {
   "cell_type": "code",
   "execution_count": 27,
   "metadata": {
    "tags": []
   },
   "outputs": [
    {
     "data": {
      "text/html": [
       "<div>\n",
       "<style scoped>\n",
       "    .dataframe tbody tr th:only-of-type {\n",
       "        vertical-align: middle;\n",
       "    }\n",
       "\n",
       "    .dataframe tbody tr th {\n",
       "        vertical-align: top;\n",
       "    }\n",
       "\n",
       "    .dataframe thead th {\n",
       "        text-align: right;\n",
       "    }\n",
       "</style>\n",
       "<table border=\"1\" class=\"dataframe\">\n",
       "  <thead>\n",
       "    <tr style=\"text-align: right;\">\n",
       "      <th></th>\n",
       "      <th>SERVICIO_VEHICULO_INFRACTOR</th>\n",
       "      <th>Conteo</th>\n",
       "      <th>% Del Total</th>\n",
       "    </tr>\n",
       "  </thead>\n",
       "  <tbody>\n",
       "    <tr>\n",
       "      <th>0</th>\n",
       "      <td>DIPLOMATICO</td>\n",
       "      <td>2</td>\n",
       "      <td>0.001</td>\n",
       "    </tr>\n",
       "    <tr>\n",
       "      <th>1</th>\n",
       "      <td>OFICIAL</td>\n",
       "      <td>562</td>\n",
       "      <td>0.222</td>\n",
       "    </tr>\n",
       "    <tr>\n",
       "      <th>2</th>\n",
       "      <td>PARTICULAR</td>\n",
       "      <td>205143</td>\n",
       "      <td>81.174</td>\n",
       "    </tr>\n",
       "    <tr>\n",
       "      <th>3</th>\n",
       "      <td>PUBLICO</td>\n",
       "      <td>47013</td>\n",
       "      <td>18.603</td>\n",
       "    </tr>\n",
       "  </tbody>\n",
       "</table>\n",
       "</div>"
      ],
      "text/plain": [
       "  SERVICIO_VEHICULO_INFRACTOR  Conteo  % Del Total\n",
       "0                 DIPLOMATICO       2        0.001\n",
       "1                     OFICIAL     562        0.222\n",
       "2                  PARTICULAR  205143       81.174\n",
       "3                     PUBLICO   47013       18.603"
      ]
     },
     "execution_count": 27,
     "metadata": {},
     "output_type": "execute_result"
    }
   ],
   "source": [
    "datos_vehi_servicio= datos.groupby('SERVICIO_VEHICULO_INFRACTOR').size().reset_index(name='Conteo')\n",
    "datos_vehi_servicio['% Del Total']= round((datos_vehi_servicio['Conteo']/sum(datos_vehi_servicio['Conteo']))*100,3)\n",
    "datos_vehi_servicio"
   ]
  },
  {
   "cell_type": "code",
   "execution_count": null,
   "metadata": {},
   "outputs": [],
   "source": [
    "infracciones= datos.groupby('COD_INFRACCION','CLASE_VEHICULO_INFRACTOR')"
   ]
  }
 ],
 "metadata": {
  "kernelspec": {
   "display_name": "Python 3 (ipykernel)",
   "language": "python",
   "name": "python3"
  },
  "language_info": {
   "codemirror_mode": {
    "name": "ipython",
    "version": 3
   },
   "file_extension": ".py",
   "mimetype": "text/x-python",
   "name": "python",
   "nbconvert_exporter": "python",
   "pygments_lexer": "ipython3",
   "version": "3.10.9"
  }
 },
 "nbformat": 4,
 "nbformat_minor": 4
}
